{
 "cells": [
  {
   "cell_type": "code",
   "execution_count": 1,
   "metadata": {},
   "outputs": [],
   "source": [
    "import pandas as pd\n",
    "import numpy as np"
   ]
  },
  {
   "cell_type": "code",
   "execution_count": 2,
   "metadata": {},
   "outputs": [],
   "source": [
    "#Read the CSV file \n",
    "df = pd.read_csv('dataset.csv')"
   ]
  },
  {
   "cell_type": "code",
   "execution_count": 3,
   "metadata": {},
   "outputs": [
    {
     "data": {
      "text/html": [
       "<div>\n",
       "<style scoped>\n",
       "    .dataframe tbody tr th:only-of-type {\n",
       "        vertical-align: middle;\n",
       "    }\n",
       "\n",
       "    .dataframe tbody tr th {\n",
       "        vertical-align: top;\n",
       "    }\n",
       "\n",
       "    .dataframe thead th {\n",
       "        text-align: right;\n",
       "    }\n",
       "</style>\n",
       "<table border=\"1\" class=\"dataframe\">\n",
       "  <thead>\n",
       "    <tr style=\"text-align: right;\">\n",
       "      <th></th>\n",
       "      <th>text</th>\n",
       "      <th>humor</th>\n",
       "    </tr>\n",
       "  </thead>\n",
       "  <tbody>\n",
       "    <tr>\n",
       "      <td>0</td>\n",
       "      <td>Joe biden rules out 2020 bid: 'guys, i'm not r...</td>\n",
       "      <td>False</td>\n",
       "    </tr>\n",
       "    <tr>\n",
       "      <td>1</td>\n",
       "      <td>Watch: darvish gave hitter whiplash with slow ...</td>\n",
       "      <td>False</td>\n",
       "    </tr>\n",
       "    <tr>\n",
       "      <td>2</td>\n",
       "      <td>What do you call a turtle without its shell? d...</td>\n",
       "      <td>True</td>\n",
       "    </tr>\n",
       "    <tr>\n",
       "      <td>3</td>\n",
       "      <td>5 reasons the 2016 election feels so personal</td>\n",
       "      <td>False</td>\n",
       "    </tr>\n",
       "    <tr>\n",
       "      <td>4</td>\n",
       "      <td>Pasco police shot mexican migrant from behind,...</td>\n",
       "      <td>False</td>\n",
       "    </tr>\n",
       "    <tr>\n",
       "      <td>...</td>\n",
       "      <td>...</td>\n",
       "      <td>...</td>\n",
       "    </tr>\n",
       "    <tr>\n",
       "      <td>199995</td>\n",
       "      <td>Conor maynard seamlessly fits old-school r&amp;b h...</td>\n",
       "      <td>False</td>\n",
       "    </tr>\n",
       "    <tr>\n",
       "      <td>199996</td>\n",
       "      <td>How to you make holy water? you boil the hell ...</td>\n",
       "      <td>True</td>\n",
       "    </tr>\n",
       "    <tr>\n",
       "      <td>199997</td>\n",
       "      <td>How many optometrists does it take to screw in...</td>\n",
       "      <td>True</td>\n",
       "    </tr>\n",
       "    <tr>\n",
       "      <td>199998</td>\n",
       "      <td>Mcdonald's will officially kick off all-day br...</td>\n",
       "      <td>False</td>\n",
       "    </tr>\n",
       "    <tr>\n",
       "      <td>199999</td>\n",
       "      <td>An irish man walks on the street and ignores a...</td>\n",
       "      <td>True</td>\n",
       "    </tr>\n",
       "  </tbody>\n",
       "</table>\n",
       "<p>200000 rows × 2 columns</p>\n",
       "</div>"
      ],
      "text/plain": [
       "                                                     text  humor\n",
       "0       Joe biden rules out 2020 bid: 'guys, i'm not r...  False\n",
       "1       Watch: darvish gave hitter whiplash with slow ...  False\n",
       "2       What do you call a turtle without its shell? d...   True\n",
       "3           5 reasons the 2016 election feels so personal  False\n",
       "4       Pasco police shot mexican migrant from behind,...  False\n",
       "...                                                   ...    ...\n",
       "199995  Conor maynard seamlessly fits old-school r&b h...  False\n",
       "199996  How to you make holy water? you boil the hell ...   True\n",
       "199997  How many optometrists does it take to screw in...   True\n",
       "199998  Mcdonald's will officially kick off all-day br...  False\n",
       "199999  An irish man walks on the street and ignores a...   True\n",
       "\n",
       "[200000 rows x 2 columns]"
      ]
     },
     "execution_count": 3,
     "metadata": {},
     "output_type": "execute_result"
    }
   ],
   "source": [
    "'''\n",
    "Dataset link:https://www.kaggle.com/datasets/deepcontractor/200k-short-texts-for-humor-detection\n",
    "Dataset Paper : https://arxiv.org/abs/2004.12765\n",
    "Title : Colbert: Using bert sentence embedding for humor detection\n",
    "Author: Annamoradnejad, Issa and Zoghi, Gohar\n",
    "journal: arXiv preprint arXiv:2004.12765\n",
    "'''\n",
    "df"
   ]
  },
  {
   "cell_type": "code",
   "execution_count": 4,
   "metadata": {},
   "outputs": [
    {
     "data": {
      "text/html": [
       "<div>\n",
       "<style scoped>\n",
       "    .dataframe tbody tr th:only-of-type {\n",
       "        vertical-align: middle;\n",
       "    }\n",
       "\n",
       "    .dataframe tbody tr th {\n",
       "        vertical-align: top;\n",
       "    }\n",
       "\n",
       "    .dataframe thead th {\n",
       "        text-align: right;\n",
       "    }\n",
       "</style>\n",
       "<table border=\"1\" class=\"dataframe\">\n",
       "  <thead>\n",
       "    <tr style=\"text-align: right;\">\n",
       "      <th></th>\n",
       "      <th>text</th>\n",
       "      <th>humor</th>\n",
       "    </tr>\n",
       "  </thead>\n",
       "  <tbody>\n",
       "    <tr>\n",
       "      <td>count</td>\n",
       "      <td>200000</td>\n",
       "      <td>200000</td>\n",
       "    </tr>\n",
       "    <tr>\n",
       "      <td>unique</td>\n",
       "      <td>200000</td>\n",
       "      <td>2</td>\n",
       "    </tr>\n",
       "    <tr>\n",
       "      <td>top</td>\n",
       "      <td>What do you call a communist in a hurry? a sov...</td>\n",
       "      <td>True</td>\n",
       "    </tr>\n",
       "    <tr>\n",
       "      <td>freq</td>\n",
       "      <td>1</td>\n",
       "      <td>100000</td>\n",
       "    </tr>\n",
       "  </tbody>\n",
       "</table>\n",
       "</div>"
      ],
      "text/plain": [
       "                                                     text   humor\n",
       "count                                              200000  200000\n",
       "unique                                             200000       2\n",
       "top     What do you call a communist in a hurry? a sov...    True\n",
       "freq                                                    1  100000"
      ]
     },
     "execution_count": 4,
     "metadata": {},
     "output_type": "execute_result"
    }
   ],
   "source": [
    "df.describe()"
   ]
  },
  {
   "cell_type": "code",
   "execution_count": 5,
   "metadata": {},
   "outputs": [
    {
     "name": "stdout",
     "output_type": "stream",
     "text": [
      "<class 'pandas.core.frame.DataFrame'>\n",
      "RangeIndex: 200000 entries, 0 to 199999\n",
      "Data columns (total 2 columns):\n",
      "text     200000 non-null object\n",
      "humor    200000 non-null bool\n",
      "dtypes: bool(1), object(1)\n",
      "memory usage: 1.7+ MB\n"
     ]
    }
   ],
   "source": [
    "df.info()"
   ]
  },
  {
   "cell_type": "code",
   "execution_count": 6,
   "metadata": {},
   "outputs": [
    {
     "data": {
      "text/html": [
       "<div>\n",
       "<style scoped>\n",
       "    .dataframe tbody tr th:only-of-type {\n",
       "        vertical-align: middle;\n",
       "    }\n",
       "\n",
       "    .dataframe tbody tr th {\n",
       "        vertical-align: top;\n",
       "    }\n",
       "\n",
       "    .dataframe thead th {\n",
       "        text-align: right;\n",
       "    }\n",
       "</style>\n",
       "<table border=\"1\" class=\"dataframe\">\n",
       "  <thead>\n",
       "    <tr style=\"text-align: right;\">\n",
       "      <th></th>\n",
       "      <th>Length</th>\n",
       "    </tr>\n",
       "  </thead>\n",
       "  <tbody>\n",
       "    <tr>\n",
       "      <td>count</td>\n",
       "      <td>200000.000000</td>\n",
       "    </tr>\n",
       "    <tr>\n",
       "      <td>mean</td>\n",
       "      <td>11.994280</td>\n",
       "    </tr>\n",
       "    <tr>\n",
       "      <td>std</td>\n",
       "      <td>2.770001</td>\n",
       "    </tr>\n",
       "    <tr>\n",
       "      <td>min</td>\n",
       "      <td>6.000000</td>\n",
       "    </tr>\n",
       "    <tr>\n",
       "      <td>25%</td>\n",
       "      <td>10.000000</td>\n",
       "    </tr>\n",
       "    <tr>\n",
       "      <td>50%</td>\n",
       "      <td>12.000000</td>\n",
       "    </tr>\n",
       "    <tr>\n",
       "      <td>75%</td>\n",
       "      <td>14.000000</td>\n",
       "    </tr>\n",
       "    <tr>\n",
       "      <td>max</td>\n",
       "      <td>62.000000</td>\n",
       "    </tr>\n",
       "  </tbody>\n",
       "</table>\n",
       "</div>"
      ],
      "text/plain": [
       "              Length\n",
       "count  200000.000000\n",
       "mean       11.994280\n",
       "std         2.770001\n",
       "min         6.000000\n",
       "25%        10.000000\n",
       "50%        12.000000\n",
       "75%        14.000000\n",
       "max        62.000000"
      ]
     },
     "execution_count": 6,
     "metadata": {},
     "output_type": "execute_result"
    }
   ],
   "source": [
    "#finding the length of each text after removing space\n",
    "df['Length'] = df['text'].apply(lambda x: len(x.split(' ')))\n",
    "df.describe()"
   ]
  },
  {
   "cell_type": "code",
   "execution_count": 7,
   "metadata": {},
   "outputs": [],
   "source": [
    "import seaborn as sns \n",
    "import matplotlib.pyplot as plt"
   ]
  },
  {
   "cell_type": "code",
   "execution_count": 8,
   "metadata": {},
   "outputs": [
    {
     "data": {
      "image/png": "[encoded data removed]",
      "text/plain": [
       "<Figure size 720x360 with 1 Axes>"
      ]
     },
     "metadata": {
      "needs_background": "light"
     },
     "output_type": "display_data"
    }
   ],
   "source": [
    "#plot a bar graph show true VS false (funny or not funny) jokes.\n",
    "plt.figure(figsize=(10,5))\n",
    "sns.barplot(x='humor',y='Length',data=df)\n",
    "plt.show()"
   ]
  },
  {
   "cell_type": "code",
   "execution_count": 9,
   "metadata": {},
   "outputs": [
    {
     "data": {
      "text/plain": [
       "2398856"
      ]
     },
     "execution_count": 9,
     "metadata": {},
     "output_type": "execute_result"
    }
   ],
   "source": [
    "#Getting a list of all the words in the dataset into Dictonary \n",
    "Word_list = []\n",
    "Word_dic = dict()\n",
    "for i in list(df['text']):\n",
    "    for j in i.split(' '):\n",
    "        Word_list.append(j.upper())\n",
    "len(Word_list)"
   ]
  },
  {
   "cell_type": "code",
   "execution_count": 10,
   "metadata": {},
   "outputs": [],
   "source": [
    "from collections import Counter"
   ]
  },
  {
   "cell_type": "code",
   "execution_count": 11,
   "metadata": {},
   "outputs": [
    {
     "data": {
      "text/html": [
       "<div>\n",
       "<style scoped>\n",
       "    .dataframe tbody tr th:only-of-type {\n",
       "        vertical-align: middle;\n",
       "    }\n",
       "\n",
       "    .dataframe tbody tr th {\n",
       "        vertical-align: top;\n",
       "    }\n",
       "\n",
       "    .dataframe thead th {\n",
       "        text-align: right;\n",
       "    }\n",
       "</style>\n",
       "<table border=\"1\" class=\"dataframe\">\n",
       "  <thead>\n",
       "    <tr style=\"text-align: right;\">\n",
       "      <th></th>\n",
       "      <th>Word</th>\n",
       "      <th>Frequency</th>\n",
       "    </tr>\n",
       "  </thead>\n",
       "  <tbody>\n",
       "    <tr>\n",
       "      <td>30</td>\n",
       "      <td>THE</td>\n",
       "      <td>81969</td>\n",
       "    </tr>\n",
       "    <tr>\n",
       "      <td>22</td>\n",
       "      <td>A</td>\n",
       "      <td>75714</td>\n",
       "    </tr>\n",
       "    <tr>\n",
       "      <td>99</td>\n",
       "      <td>TO</td>\n",
       "      <td>53737</td>\n",
       "    </tr>\n",
       "    <tr>\n",
       "      <td>20</td>\n",
       "      <td>YOU</td>\n",
       "      <td>34521</td>\n",
       "    </tr>\n",
       "    <tr>\n",
       "      <td>60</td>\n",
       "      <td>OF</td>\n",
       "      <td>32837</td>\n",
       "    </tr>\n",
       "  </tbody>\n",
       "</table>\n",
       "</div>"
      ],
      "text/plain": [
       "   Word  Frequency\n",
       "30  THE      81969\n",
       "22    A      75714\n",
       "99   TO      53737\n",
       "20  YOU      34521\n",
       "60   OF      32837"
      ]
     },
     "execution_count": 11,
     "metadata": {},
     "output_type": "execute_result"
    }
   ],
   "source": [
    "Word_dic = Counter(Word_list)\n",
    "Word_df = pd.DataFrame({'Word':list(Word_dic.keys()),'Frequency':list(Word_dic.values())})\n",
    "Word_df.sort_values('Frequency',ascending=False,inplace=True)\n",
    "Word_df.head()"
   ]
  },
  {
   "cell_type": "code",
   "execution_count": 12,
   "metadata": {},
   "outputs": [],
   "source": [
    "sync = list(Word_df['Word'].head(60))"
   ]
  },
  {
   "cell_type": "code",
   "execution_count": 13,
   "metadata": {},
   "outputs": [
    {
     "data": {
      "text/plain": [
       "142768"
      ]
     },
     "execution_count": 13,
     "metadata": {},
     "output_type": "execute_result"
    }
   ],
   "source": [
    "len(Word_df)"
   ]
  },
  {
   "cell_type": "code",
   "execution_count": 14,
   "metadata": {},
   "outputs": [
    {
     "data": {
      "text/plain": [
       "count    142768.000000\n",
       "mean         16.802477\n",
       "std         433.752112\n",
       "min           1.000000\n",
       "25%           1.000000\n",
       "50%           1.000000\n",
       "75%           3.000000\n",
       "max       81969.000000\n",
       "Name: Frequency, dtype: float64"
      ]
     },
     "execution_count": 14,
     "metadata": {},
     "output_type": "execute_result"
    }
   ],
   "source": [
    "Word_df['Frequency'].describe()"
   ]
  },
  {
   "cell_type": "code",
   "execution_count": 15,
   "metadata": {},
   "outputs": [
    {
     "name": "stdout",
     "output_type": "stream",
     "text": [
      "14.0\n",
      "16.0\n",
      "19.0\n",
      "24.0\n",
      "30.0\n",
      "39.0\n",
      "55.0\n",
      "85.0\n",
      "176.0\n"
     ]
    }
   ],
   "source": [
    "for i in [0.91,0.92,0.93,0.94,0.95,0.96,0.97,0.98,0.99]:\n",
    "    print(Word_df['Frequency'].quantile(i))"
   ]
  },
  {
   "cell_type": "code",
   "execution_count": 16,
   "metadata": {},
   "outputs": [
    {
     "name": "stdout",
     "output_type": "stream",
     "text": [
      "193.09700000000885\n",
      "218.0\n",
      "249.0\n",
      "287.3980000000156\n",
      "333.0\n",
      "420.9320000000007\n",
      "548.6989999999932\n",
      "820.8639999999432\n",
      "1633.6990000000224\n"
     ]
    }
   ],
   "source": [
    "for i in [0.991,0.992,0.993,0.994,0.995,0.996,0.997,0.998,0.999]:\n",
    "    print(Word_df['Frequency'].quantile(i))"
   ]
  },
  {
   "cell_type": "code",
   "execution_count": 17,
   "metadata": {},
   "outputs": [
    {
     "data": {
      "text/plain": [
       "716"
      ]
     },
     "execution_count": 17,
     "metadata": {},
     "output_type": "execute_result"
    }
   ],
   "source": [
    "Word_df = Word_df[Word_df.Frequency>=333.0]\n",
    "len(Word_df)"
   ]
  },
  {
   "cell_type": "code",
   "execution_count": 18,
   "metadata": {},
   "outputs": [
    {
     "data": {
      "text/html": [
       "<div>\n",
       "<style scoped>\n",
       "    .dataframe tbody tr th:only-of-type {\n",
       "        vertical-align: middle;\n",
       "    }\n",
       "\n",
       "    .dataframe tbody tr th {\n",
       "        vertical-align: top;\n",
       "    }\n",
       "\n",
       "    .dataframe thead th {\n",
       "        text-align: right;\n",
       "    }\n",
       "</style>\n",
       "<table border=\"1\" class=\"dataframe\">\n",
       "  <thead>\n",
       "    <tr style=\"text-align: right;\">\n",
       "      <th></th>\n",
       "      <th>Word</th>\n",
       "      <th>Frequency</th>\n",
       "    </tr>\n",
       "  </thead>\n",
       "  <tbody>\n",
       "    <tr>\n",
       "      <td>30</td>\n",
       "      <td>THE</td>\n",
       "      <td>81969</td>\n",
       "    </tr>\n",
       "    <tr>\n",
       "      <td>22</td>\n",
       "      <td>A</td>\n",
       "      <td>75714</td>\n",
       "    </tr>\n",
       "    <tr>\n",
       "      <td>99</td>\n",
       "      <td>TO</td>\n",
       "      <td>53737</td>\n",
       "    </tr>\n",
       "    <tr>\n",
       "      <td>20</td>\n",
       "      <td>YOU</td>\n",
       "      <td>34521</td>\n",
       "    </tr>\n",
       "    <tr>\n",
       "      <td>60</td>\n",
       "      <td>OF</td>\n",
       "      <td>32837</td>\n",
       "    </tr>\n",
       "  </tbody>\n",
       "</table>\n",
       "</div>"
      ],
      "text/plain": [
       "   Word  Frequency\n",
       "30  THE      81969\n",
       "22    A      75714\n",
       "99   TO      53737\n",
       "20  YOU      34521\n",
       "60   OF      32837"
      ]
     },
     "execution_count": 18,
     "metadata": {},
     "output_type": "execute_result"
    }
   ],
   "source": [
    "Word_df.head()"
   ]
  },
  {
   "cell_type": "code",
   "execution_count": 19,
   "metadata": {},
   "outputs": [
    {
     "data": {
      "text/plain": [
       "656"
      ]
     },
     "execution_count": 19,
     "metadata": {},
     "output_type": "execute_result"
    }
   ],
   "source": [
    "Final_Words = list(Word_df.Word)\n",
    "Final = [x for x in Final_Words if x not in sync]\n",
    "len(Final)"
   ]
  },
  {
   "cell_type": "code",
   "execution_count": 20,
   "metadata": {},
   "outputs": [],
   "source": [
    "for i in ['','-','--','&','3','7','2','A:','6','Q:','...','?','5','10','!','1','9','4','8']:\n",
    "    Final.remove(i)"
   ]
  },
  {
   "cell_type": "code",
   "execution_count": 21,
   "metadata": {},
   "outputs": [
    {
     "data": {
      "text/plain": [
       "637"
      ]
     },
     "execution_count": 21,
     "metadata": {},
     "output_type": "execute_result"
    }
   ],
   "source": [
    "len(Final)"
   ]
  },
  {
   "cell_type": "code",
   "execution_count": 22,
   "metadata": {},
   "outputs": [
    {
     "data": {
      "text/html": [
       "<div>\n",
       "<style scoped>\n",
       "    .dataframe tbody tr th:only-of-type {\n",
       "        vertical-align: middle;\n",
       "    }\n",
       "\n",
       "    .dataframe tbody tr th {\n",
       "        vertical-align: top;\n",
       "    }\n",
       "\n",
       "    .dataframe thead th {\n",
       "        text-align: right;\n",
       "    }\n",
       "</style>\n",
       "<table border=\"1\" class=\"dataframe\">\n",
       "  <thead>\n",
       "    <tr style=\"text-align: right;\">\n",
       "      <th></th>\n",
       "      <th>humor</th>\n",
       "      <th>Length</th>\n",
       "      <th>AFTER</th>\n",
       "      <th>HER</th>\n",
       "      <th>BY</th>\n",
       "      <th>MAKE</th>\n",
       "      <th>(PHOTOS)</th>\n",
       "      <th>INTO</th>\n",
       "      <th>HAS</th>\n",
       "      <th>WILL</th>\n",
       "      <th>...</th>\n",
       "      <th>MAJOR</th>\n",
       "      <th>WOMEN'S</th>\n",
       "      <th>STORE</th>\n",
       "      <th>STARS</th>\n",
       "      <th>WEIGHT</th>\n",
       "      <th>MISS</th>\n",
       "      <th>YEAR'S</th>\n",
       "      <th>FOOTBALL</th>\n",
       "      <th>QUESTIONS</th>\n",
       "      <th>BEAT</th>\n",
       "    </tr>\n",
       "  </thead>\n",
       "  <tbody>\n",
       "    <tr>\n",
       "      <td>0</td>\n",
       "      <td>False</td>\n",
       "      <td>10</td>\n",
       "      <td>0</td>\n",
       "      <td>0</td>\n",
       "      <td>0</td>\n",
       "      <td>0</td>\n",
       "      <td>0</td>\n",
       "      <td>0</td>\n",
       "      <td>0</td>\n",
       "      <td>0</td>\n",
       "      <td>...</td>\n",
       "      <td>0</td>\n",
       "      <td>0</td>\n",
       "      <td>0</td>\n",
       "      <td>0</td>\n",
       "      <td>0</td>\n",
       "      <td>0</td>\n",
       "      <td>0</td>\n",
       "      <td>0</td>\n",
       "      <td>0</td>\n",
       "      <td>0</td>\n",
       "    </tr>\n",
       "    <tr>\n",
       "      <td>1</td>\n",
       "      <td>False</td>\n",
       "      <td>8</td>\n",
       "      <td>0</td>\n",
       "      <td>0</td>\n",
       "      <td>0</td>\n",
       "      <td>0</td>\n",
       "      <td>0</td>\n",
       "      <td>0</td>\n",
       "      <td>0</td>\n",
       "      <td>0</td>\n",
       "      <td>...</td>\n",
       "      <td>0</td>\n",
       "      <td>0</td>\n",
       "      <td>0</td>\n",
       "      <td>0</td>\n",
       "      <td>0</td>\n",
       "      <td>0</td>\n",
       "      <td>0</td>\n",
       "      <td>0</td>\n",
       "      <td>0</td>\n",
       "      <td>0</td>\n",
       "    </tr>\n",
       "    <tr>\n",
       "      <td>2</td>\n",
       "      <td>True</td>\n",
       "      <td>10</td>\n",
       "      <td>0</td>\n",
       "      <td>0</td>\n",
       "      <td>0</td>\n",
       "      <td>0</td>\n",
       "      <td>0</td>\n",
       "      <td>0</td>\n",
       "      <td>0</td>\n",
       "      <td>0</td>\n",
       "      <td>...</td>\n",
       "      <td>0</td>\n",
       "      <td>0</td>\n",
       "      <td>0</td>\n",
       "      <td>0</td>\n",
       "      <td>0</td>\n",
       "      <td>0</td>\n",
       "      <td>0</td>\n",
       "      <td>0</td>\n",
       "      <td>0</td>\n",
       "      <td>0</td>\n",
       "    </tr>\n",
       "    <tr>\n",
       "      <td>3</td>\n",
       "      <td>False</td>\n",
       "      <td>8</td>\n",
       "      <td>0</td>\n",
       "      <td>0</td>\n",
       "      <td>0</td>\n",
       "      <td>0</td>\n",
       "      <td>0</td>\n",
       "      <td>0</td>\n",
       "      <td>0</td>\n",
       "      <td>0</td>\n",
       "      <td>...</td>\n",
       "      <td>0</td>\n",
       "      <td>0</td>\n",
       "      <td>0</td>\n",
       "      <td>0</td>\n",
       "      <td>0</td>\n",
       "      <td>0</td>\n",
       "      <td>0</td>\n",
       "      <td>0</td>\n",
       "      <td>0</td>\n",
       "      <td>0</td>\n",
       "    </tr>\n",
       "    <tr>\n",
       "      <td>4</td>\n",
       "      <td>False</td>\n",
       "      <td>10</td>\n",
       "      <td>0</td>\n",
       "      <td>0</td>\n",
       "      <td>0</td>\n",
       "      <td>0</td>\n",
       "      <td>0</td>\n",
       "      <td>0</td>\n",
       "      <td>0</td>\n",
       "      <td>0</td>\n",
       "      <td>...</td>\n",
       "      <td>0</td>\n",
       "      <td>0</td>\n",
       "      <td>0</td>\n",
       "      <td>0</td>\n",
       "      <td>0</td>\n",
       "      <td>0</td>\n",
       "      <td>0</td>\n",
       "      <td>0</td>\n",
       "      <td>0</td>\n",
       "      <td>0</td>\n",
       "    </tr>\n",
       "  </tbody>\n",
       "</table>\n",
       "<p>5 rows × 639 columns</p>\n",
       "</div>"
      ],
      "text/plain": [
       "   humor  Length  AFTER  HER  BY  MAKE  (PHOTOS)  INTO  HAS  WILL  ...  MAJOR  \\\n",
       "0  False      10      0    0   0     0         0     0    0     0  ...      0   \n",
       "1  False       8      0    0   0     0         0     0    0     0  ...      0   \n",
       "2   True      10      0    0   0     0         0     0    0     0  ...      0   \n",
       "3  False       8      0    0   0     0         0     0    0     0  ...      0   \n",
       "4  False      10      0    0   0     0         0     0    0     0  ...      0   \n",
       "\n",
       "   WOMEN'S  STORE  STARS  WEIGHT  MISS  YEAR'S  FOOTBALL  QUESTIONS  BEAT  \n",
       "0        0      0      0       0     0       0         0          0     0  \n",
       "1        0      0      0       0     0       0         0          0     0  \n",
       "2        0      0      0       0     0       0         0          0     0  \n",
       "3        0      0      0       0     0       0         0          0     0  \n",
       "4        0      0      0       0     0       0         0          0     0  \n",
       "\n",
       "[5 rows x 639 columns]"
      ]
     },
     "execution_count": 22,
     "metadata": {},
     "output_type": "execute_result"
    }
   ],
   "source": [
    "def upp(lis):\n",
    "    return [j.upper() for j in lis]\n",
    "    \n",
    "for i in Final:\n",
    "    df[i] = df['text'].apply(lambda x: 1 if i in upp(x.split(' ')) else 0)\n",
    "df.drop(['text'],axis=1,inplace=True)\n",
    "df.head()"
   ]
  },
  {
   "cell_type": "markdown",
   "metadata": {},
   "source": [
    "# LAB 2- B"
   ]
  },
  {
   "cell_type": "code",
   "execution_count": 1,
   "metadata": {},
   "outputs": [],
   "source": [
    "import pandas as pd\n",
    "import numpy as np\n",
    "import matplotlib.pyplot as plt\n",
    "import seaborn as sb"
   ]
  },
  {
   "cell_type": "code",
   "execution_count": 2,
   "metadata": {},
   "outputs": [],
   "source": [
    "df = pd.read_csv(\"/home/rahil/Documents/AIDI/ML programing/Assignments/Assignment2/google.csv\")"
   ]
  },
  {
   "cell_type": "code",
   "execution_count": 3,
   "metadata": {},
   "outputs": [
    {
     "data": {
      "text/html": [
       "<div>\n",
       "<style scoped>\n",
       "    .dataframe tbody tr th:only-of-type {\n",
       "        vertical-align: middle;\n",
       "    }\n",
       "\n",
       "    .dataframe tbody tr th {\n",
       "        vertical-align: top;\n",
       "    }\n",
       "\n",
       "    .dataframe thead th {\n",
       "        text-align: right;\n",
       "    }\n",
       "</style>\n",
       "<table border=\"1\" class=\"dataframe\">\n",
       "  <thead>\n",
       "    <tr style=\"text-align: right;\">\n",
       "      <th></th>\n",
       "      <th>Open</th>\n",
       "      <th>High</th>\n",
       "      <th>Low</th>\n",
       "      <th>Close</th>\n",
       "      <th>Adj Close</th>\n",
       "      <th>Volume</th>\n",
       "    </tr>\n",
       "  </thead>\n",
       "  <tbody>\n",
       "    <tr>\n",
       "      <td>count</td>\n",
       "      <td>5077.000000</td>\n",
       "      <td>5077.000000</td>\n",
       "      <td>5077.000000</td>\n",
       "      <td>5077.000000</td>\n",
       "      <td>5077.000000</td>\n",
       "      <td>5.077000e+03</td>\n",
       "    </tr>\n",
       "    <tr>\n",
       "      <td>mean</td>\n",
       "      <td>50.211469</td>\n",
       "      <td>50.918732</td>\n",
       "      <td>49.449509</td>\n",
       "      <td>50.199217</td>\n",
       "      <td>41.572402</td>\n",
       "      <td>3.324412e+06</td>\n",
       "    </tr>\n",
       "    <tr>\n",
       "      <td>std</td>\n",
       "      <td>23.773018</td>\n",
       "      <td>24.010401</td>\n",
       "      <td>23.487776</td>\n",
       "      <td>23.762348</td>\n",
       "      <td>25.322971</td>\n",
       "      <td>1.751201e+06</td>\n",
       "    </tr>\n",
       "    <tr>\n",
       "      <td>min</td>\n",
       "      <td>15.580000</td>\n",
       "      <td>16.500000</td>\n",
       "      <td>15.290000</td>\n",
       "      <td>16.100000</td>\n",
       "      <td>11.782657</td>\n",
       "      <td>4.878000e+05</td>\n",
       "    </tr>\n",
       "    <tr>\n",
       "      <td>25%</td>\n",
       "      <td>34.189999</td>\n",
       "      <td>34.759998</td>\n",
       "      <td>33.669998</td>\n",
       "      <td>34.160000</td>\n",
       "      <td>24.326195</td>\n",
       "      <td>2.165700e+06</td>\n",
       "    </tr>\n",
       "    <tr>\n",
       "      <td>50%</td>\n",
       "      <td>41.020000</td>\n",
       "      <td>41.689999</td>\n",
       "      <td>40.360001</td>\n",
       "      <td>41.000000</td>\n",
       "      <td>31.036186</td>\n",
       "      <td>2.989300e+06</td>\n",
       "    </tr>\n",
       "    <tr>\n",
       "      <td>75%</td>\n",
       "      <td>58.759998</td>\n",
       "      <td>59.450001</td>\n",
       "      <td>57.990002</td>\n",
       "      <td>58.799999</td>\n",
       "      <td>51.314934</td>\n",
       "      <td>4.037000e+06</td>\n",
       "    </tr>\n",
       "    <tr>\n",
       "      <td>max</td>\n",
       "      <td>125.059998</td>\n",
       "      <td>127.300003</td>\n",
       "      <td>122.389999</td>\n",
       "      <td>124.639999</td>\n",
       "      <td>123.877579</td>\n",
       "      <td>2.774800e+07</td>\n",
       "    </tr>\n",
       "  </tbody>\n",
       "</table>\n",
       "</div>"
      ],
      "text/plain": [
       "              Open         High          Low        Close    Adj Close  \\\n",
       "count  5077.000000  5077.000000  5077.000000  5077.000000  5077.000000   \n",
       "mean     50.211469    50.918732    49.449509    50.199217    41.572402   \n",
       "std      23.773018    24.010401    23.487776    23.762348    25.322971   \n",
       "min      15.580000    16.500000    15.290000    16.100000    11.782657   \n",
       "25%      34.189999    34.759998    33.669998    34.160000    24.326195   \n",
       "50%      41.020000    41.689999    40.360001    41.000000    31.036186   \n",
       "75%      58.759998    59.450001    57.990002    58.799999    51.314934   \n",
       "max     125.059998   127.300003   122.389999   124.639999   123.877579   \n",
       "\n",
       "             Volume  \n",
       "count  5.077000e+03  \n",
       "mean   3.324412e+06  \n",
       "std    1.751201e+06  \n",
       "min    4.878000e+05  \n",
       "25%    2.165700e+06  \n",
       "50%    2.989300e+06  \n",
       "75%    4.037000e+06  \n",
       "max    2.774800e+07  "
      ]
     },
     "execution_count": 3,
     "metadata": {},
     "output_type": "execute_result"
    }
   ],
   "source": [
    "df.describe()"
   ]
  },
  {
   "cell_type": "code",
   "execution_count": 4,
   "metadata": {},
   "outputs": [
    {
     "data": {
      "text/html": [
       "<div>\n",
       "<style scoped>\n",
       "    .dataframe tbody tr th:only-of-type {\n",
       "        vertical-align: middle;\n",
       "    }\n",
       "\n",
       "    .dataframe tbody tr th {\n",
       "        vertical-align: top;\n",
       "    }\n",
       "\n",
       "    .dataframe thead th {\n",
       "        text-align: right;\n",
       "    }\n",
       "</style>\n",
       "<table border=\"1\" class=\"dataframe\">\n",
       "  <thead>\n",
       "    <tr style=\"text-align: right;\">\n",
       "      <th></th>\n",
       "      <th>Date</th>\n",
       "      <th>Open</th>\n",
       "      <th>High</th>\n",
       "      <th>Low</th>\n",
       "      <th>Close</th>\n",
       "      <th>Adj Close</th>\n",
       "      <th>Volume</th>\n",
       "    </tr>\n",
       "  </thead>\n",
       "  <tbody>\n",
       "    <tr>\n",
       "      <td>0</td>\n",
       "      <td>1999-12-31</td>\n",
       "      <td>45.7500</td>\n",
       "      <td>47.2500</td>\n",
       "      <td>45.65625</td>\n",
       "      <td>46.50000</td>\n",
       "      <td>31.572819</td>\n",
       "      <td>591800</td>\n",
       "    </tr>\n",
       "    <tr>\n",
       "      <td>1</td>\n",
       "      <td>2000-01-03</td>\n",
       "      <td>46.7500</td>\n",
       "      <td>46.9375</td>\n",
       "      <td>44.00000</td>\n",
       "      <td>45.09375</td>\n",
       "      <td>30.618002</td>\n",
       "      <td>3655600</td>\n",
       "    </tr>\n",
       "    <tr>\n",
       "      <td>2</td>\n",
       "      <td>2000-01-04</td>\n",
       "      <td>44.7500</td>\n",
       "      <td>45.7500</td>\n",
       "      <td>42.78125</td>\n",
       "      <td>42.81250</td>\n",
       "      <td>29.069048</td>\n",
       "      <td>2533200</td>\n",
       "    </tr>\n",
       "    <tr>\n",
       "      <td>3</td>\n",
       "      <td>2000-01-05</td>\n",
       "      <td>42.8125</td>\n",
       "      <td>44.1250</td>\n",
       "      <td>41.59375</td>\n",
       "      <td>43.43750</td>\n",
       "      <td>29.493437</td>\n",
       "      <td>3228000</td>\n",
       "    </tr>\n",
       "    <tr>\n",
       "      <td>4</td>\n",
       "      <td>2000-01-06</td>\n",
       "      <td>43.4375</td>\n",
       "      <td>43.8125</td>\n",
       "      <td>41.62500</td>\n",
       "      <td>42.25000</td>\n",
       "      <td>28.687130</td>\n",
       "      <td>2601000</td>\n",
       "    </tr>\n",
       "    <tr>\n",
       "      <td>5</td>\n",
       "      <td>2000-01-07</td>\n",
       "      <td>42.0000</td>\n",
       "      <td>44.2500</td>\n",
       "      <td>41.31250</td>\n",
       "      <td>43.43750</td>\n",
       "      <td>29.493437</td>\n",
       "      <td>1890600</td>\n",
       "    </tr>\n",
       "    <tr>\n",
       "      <td>6</td>\n",
       "      <td>2000-01-10</td>\n",
       "      <td>45.0000</td>\n",
       "      <td>47.3750</td>\n",
       "      <td>44.62500</td>\n",
       "      <td>47.21875</td>\n",
       "      <td>32.060841</td>\n",
       "      <td>2570000</td>\n",
       "    </tr>\n",
       "  </tbody>\n",
       "</table>\n",
       "</div>"
      ],
      "text/plain": [
       "         Date     Open     High       Low     Close  Adj Close   Volume\n",
       "0  1999-12-31  45.7500  47.2500  45.65625  46.50000  31.572819   591800\n",
       "1  2000-01-03  46.7500  46.9375  44.00000  45.09375  30.618002  3655600\n",
       "2  2000-01-04  44.7500  45.7500  42.78125  42.81250  29.069048  2533200\n",
       "3  2000-01-05  42.8125  44.1250  41.59375  43.43750  29.493437  3228000\n",
       "4  2000-01-06  43.4375  43.8125  41.62500  42.25000  28.687130  2601000\n",
       "5  2000-01-07  42.0000  44.2500  41.31250  43.43750  29.493437  1890600\n",
       "6  2000-01-10  45.0000  47.3750  44.62500  47.21875  32.060841  2570000"
      ]
     },
     "execution_count": 4,
     "metadata": {},
     "output_type": "execute_result"
    }
   ],
   "source": [
    "df.head(7)"
   ]
  },
  {
   "cell_type": "code",
   "execution_count": 5,
   "metadata": {},
   "outputs": [
    {
     "data": {
      "text/html": [
       "<div>\n",
       "<style scoped>\n",
       "    .dataframe tbody tr th:only-of-type {\n",
       "        vertical-align: middle;\n",
       "    }\n",
       "\n",
       "    .dataframe tbody tr th {\n",
       "        vertical-align: top;\n",
       "    }\n",
       "\n",
       "    .dataframe thead th {\n",
       "        text-align: right;\n",
       "    }\n",
       "</style>\n",
       "<table border=\"1\" class=\"dataframe\">\n",
       "  <thead>\n",
       "    <tr style=\"text-align: right;\">\n",
       "      <th></th>\n",
       "      <th>Open</th>\n",
       "      <th>High</th>\n",
       "      <th>Low</th>\n",
       "      <th>Close</th>\n",
       "      <th>Adj Close</th>\n",
       "      <th>Volume</th>\n",
       "    </tr>\n",
       "  </thead>\n",
       "  <tbody>\n",
       "    <tr>\n",
       "      <td>Open</td>\n",
       "      <td>1.000000</td>\n",
       "      <td>0.999304</td>\n",
       "      <td>0.999166</td>\n",
       "      <td>0.998701</td>\n",
       "      <td>0.980822</td>\n",
       "      <td>-0.298361</td>\n",
       "    </tr>\n",
       "    <tr>\n",
       "      <td>High</td>\n",
       "      <td>0.999304</td>\n",
       "      <td>1.000000</td>\n",
       "      <td>0.998653</td>\n",
       "      <td>0.999301</td>\n",
       "      <td>0.978697</td>\n",
       "      <td>-0.289132</td>\n",
       "    </tr>\n",
       "    <tr>\n",
       "      <td>Low</td>\n",
       "      <td>0.999166</td>\n",
       "      <td>0.998653</td>\n",
       "      <td>1.000000</td>\n",
       "      <td>0.999262</td>\n",
       "      <td>0.984535</td>\n",
       "      <td>-0.306212</td>\n",
       "    </tr>\n",
       "    <tr>\n",
       "      <td>Close</td>\n",
       "      <td>0.998701</td>\n",
       "      <td>0.999301</td>\n",
       "      <td>0.999262</td>\n",
       "      <td>1.000000</td>\n",
       "      <td>0.982123</td>\n",
       "      <td>-0.296948</td>\n",
       "    </tr>\n",
       "    <tr>\n",
       "      <td>Adj Close</td>\n",
       "      <td>0.980822</td>\n",
       "      <td>0.978697</td>\n",
       "      <td>0.984535</td>\n",
       "      <td>0.982123</td>\n",
       "      <td>1.000000</td>\n",
       "      <td>-0.295280</td>\n",
       "    </tr>\n",
       "    <tr>\n",
       "      <td>Volume</td>\n",
       "      <td>-0.298361</td>\n",
       "      <td>-0.289132</td>\n",
       "      <td>-0.306212</td>\n",
       "      <td>-0.296948</td>\n",
       "      <td>-0.295280</td>\n",
       "      <td>1.000000</td>\n",
       "    </tr>\n",
       "  </tbody>\n",
       "</table>\n",
       "</div>"
      ],
      "text/plain": [
       "               Open      High       Low     Close  Adj Close    Volume\n",
       "Open       1.000000  0.999304  0.999166  0.998701   0.980822 -0.298361\n",
       "High       0.999304  1.000000  0.998653  0.999301   0.978697 -0.289132\n",
       "Low        0.999166  0.998653  1.000000  0.999262   0.984535 -0.306212\n",
       "Close      0.998701  0.999301  0.999262  1.000000   0.982123 -0.296948\n",
       "Adj Close  0.980822  0.978697  0.984535  0.982123   1.000000 -0.295280\n",
       "Volume    -0.298361 -0.289132 -0.306212 -0.296948  -0.295280  1.000000"
      ]
     },
     "execution_count": 5,
     "metadata": {},
     "output_type": "execute_result"
    }
   ],
   "source": [
    "'''Correlation- the relationships between two or more variables (or features) of a dataset.each data point in \n",
    "the dataset is an observation, and the features are the properties or attributes of those observations.\n",
    "Cross-correlation is an established and reliable tool to compute the degree to which the two seismic time-series are dependent \n",
    "on each other.Several studies have relied on the cross-correlation method to obtain the inference on the seismic data.\n",
    "'''\n",
    "df.corr()"
   ]
  },
  {
   "cell_type": "code",
   "execution_count": 6,
   "metadata": {},
   "outputs": [
    {
     "data": {
      "image/png": "[encoded data removed]",
      "text/plain": [
       "<Figure size 432x288 with 2 Axes>"
      ]
     },
     "metadata": {
      "needs_background": "light"
     },
     "output_type": "display_data"
    }
   ],
   "source": [
    "dataplot = sb.heatmap(df.corr(),  annot=True)\n",
    "#plt.show()"
   ]
  },
  {
   "cell_type": "code",
   "execution_count": 9,
   "metadata": {},
   "outputs": [
    {
     "data": {
      "image/png": "[encoded data removed]",
      "text/plain": [
       "<Figure size 720x288 with 1 Axes>"
      ]
     },
     "metadata": {
      "needs_background": "light"
     },
     "output_type": "display_data"
    }
   ],
   "source": [
    "plt.figure(figsize=(10, 4))\n",
    "plt.plot(df['Date'],df['Volume'])\n",
    "plt.title('Daily Times Series for Volume ');"
   ]
  },
  {
   "cell_type": "code",
   "execution_count": 10,
   "metadata": {},
   "outputs": [],
   "source": [
    "count = (df['Open']>df[\"Close\"]).count()"
   ]
  },
  {
   "cell_type": "code",
   "execution_count": 11,
   "metadata": {},
   "outputs": [
    {
     "name": "stdout",
     "output_type": "stream",
     "text": [
      "5077\n"
     ]
    }
   ],
   "source": [
    "print(count)"
   ]
  },
  {
   "cell_type": "code",
   "execution_count": 12,
   "metadata": {},
   "outputs": [
    {
     "data": {
      "text/plain": [
       "<matplotlib.axes._subplots.AxesSubplot at 0x7fc0b0e81e10>"
      ]
     },
     "execution_count": 12,
     "metadata": {},
     "output_type": "execute_result"
    },
    {
     "data": {
      "image/png": "[encoded data removed]",
      "text/plain": [
       "<Figure size 432x288 with 1 Axes>"
      ]
     },
     "metadata": {
      "needs_background": "light"
     },
     "output_type": "display_data"
    }
   ],
   "source": [
    "'''When exploring data, the outliers are the extreme values within the dataset. That means the outlier data points \n",
    "vary greatly from the expected values—either being much larger or significantly smaller.\n",
    "'''\n",
    "sb.boxplot(df['Open'])"
   ]
  },
  {
   "cell_type": "code",
   "execution_count": 13,
   "metadata": {},
   "outputs": [
    {
     "name": "stdout",
     "output_type": "stream",
     "text": [
      "(array([  42,   44,   45,   46,   47,   48,   49,   50,   54,   56,   57,\n",
      "         58,   59,   60,   61,   62,   64,  106,  107,  108,  109,  110,\n",
      "        111,  112,  113,  114,  115,  116,  117,  118,  119,  120,  121,\n",
      "        122,  123,  124,  134,  135,  136,  137,  138,  158,  159,  160,\n",
      "        161,  162,  163,  164,  165,  166,  167,  168,  169,  170,  171,\n",
      "        172,  173,  174,  175,  176,  177,  178,  179,  180,  181,  182,\n",
      "        183,  184,  185,  186,  187,  188,  189,  190,  191,  192,  193,\n",
      "        194,  195, 4308, 4309, 4310, 4311, 4312, 4313, 4314, 4315, 4316,\n",
      "       4317, 4318, 4319, 4320, 4321, 4322, 4323, 4324, 4325, 4326, 4327,\n",
      "       4328, 4329, 4330, 4331, 4332, 4333, 4334, 4335, 4336, 4337, 4338,\n",
      "       4339, 4340, 4341, 4342, 4343, 4344, 4370, 4371, 4373, 4374, 4375,\n",
      "       4376, 4377, 4378, 4379, 4380, 4381, 4382, 4383, 4385, 4386, 4387,\n",
      "       4389, 4390, 4392, 4393, 4394, 4396, 4397, 4398, 4399, 4409, 4410,\n",
      "       4411, 4412, 4413, 4414, 4415, 4416, 4419, 4420, 4434, 4444, 4445,\n",
      "       4446, 4447, 4448, 4449, 4450, 4451, 4452, 4453, 4454, 4455, 4456,\n",
      "       4457, 4458, 4459, 4460, 4461, 4462, 4463, 4464, 4465, 4466, 4467,\n",
      "       4468, 4469, 4470, 4471, 4472, 4473, 4474, 4475, 4476, 4477, 4478,\n",
      "       4479, 4480, 4481, 4482, 4483, 4484, 4485, 4486, 4487, 4488, 4489,\n",
      "       4490, 4491, 4492, 4493, 4494, 4495, 4496, 4497, 4498, 4499, 4500,\n",
      "       4501, 4502, 4503, 4504, 4505, 4506, 4507, 4508, 4509, 4510, 4511,\n",
      "       4512, 4513, 4514, 4515, 4516, 4517, 4518, 4519, 4520, 4521, 4522,\n",
      "       4523, 4524, 4525, 4526, 4527, 4528, 4529, 4530, 4531, 4532, 4533,\n",
      "       4534, 4535, 4536, 4537, 4538, 4539, 4540, 4541, 4542, 4543, 4544,\n",
      "       4545, 4546, 4547, 4548, 4549, 4550, 4551, 4552, 4553, 4554, 4555,\n",
      "       4556, 4557, 4558, 4559, 4560, 4561, 4562, 4563, 4564, 4565, 4566,\n",
      "       4567, 4568, 4569, 4570, 4571, 4572, 4573, 4574, 4575, 4576, 4577,\n",
      "       4578, 4579, 4580, 4581, 4582, 4583, 4584, 4585, 4586, 4587, 4588,\n",
      "       4589, 4590, 4591, 4592, 4593, 4594, 4595, 4596, 4597, 4598, 4599,\n",
      "       4600, 4601, 4602, 4603, 4604, 4605, 4606, 4607, 4608, 4609, 4610,\n",
      "       4611, 4612, 4613, 4614, 4615, 4616, 4617, 4618, 4619, 4620, 4621,\n",
      "       4622, 4623, 4624, 4625, 4626, 4627, 4628, 4629, 4630, 4631, 4632,\n",
      "       4633, 4634, 4635, 4636, 4637, 4638, 4639, 4640, 4641, 4642, 4643,\n",
      "       4644, 4645, 4646, 4647, 4648, 4649, 4650, 4651, 4652, 4653, 4654,\n",
      "       4655, 4656, 4657, 4658, 4659, 4660, 4661, 4662, 4663, 4664, 4665,\n",
      "       4666, 4667, 4668, 4669, 4670, 4671, 4672, 4673, 4674, 4675, 4676,\n",
      "       4677, 4678, 4679, 4680, 4681, 4682, 4683, 4684, 4685, 4686, 4687,\n",
      "       4688, 4689, 4690, 4691, 4692, 4693, 4694, 4695, 4696, 4697, 4698,\n",
      "       4699, 4700, 4701, 4702, 4703, 4704, 4705, 4706, 4707, 4708, 4709,\n",
      "       4710, 4711, 4712, 4713, 4714, 4715, 4716, 4717, 4718, 4719, 4720,\n",
      "       4721, 4722, 4723, 4724, 4725, 4726, 4727, 4728, 4729, 4730, 4731,\n",
      "       4732, 4733, 4734, 4737, 4738, 4739, 4740, 4741, 4742, 4743, 4744,\n",
      "       4745, 4746, 4747, 4748, 4749, 4750, 4751, 4752, 4753, 4754, 4755,\n",
      "       4756, 4757, 4758, 4759, 4760, 4761, 4762, 4763, 4764, 4765, 4766,\n",
      "       4767, 4768, 4769, 4770, 4771, 4772, 4773, 4774, 4775, 4776, 4777,\n",
      "       4778, 4779, 4780, 4781, 4782, 4783, 4784, 4785, 4786, 4787, 4788,\n",
      "       4789, 4790, 4791, 4792, 4793, 4794, 4795, 4796, 4797, 4798, 4799,\n",
      "       4800, 4801, 4802, 4803, 4804, 4805, 4806, 4807, 4808, 4809, 4810,\n",
      "       4811, 4812, 4813, 4814, 4815, 4816, 4817, 4818, 4819, 4820, 4821,\n",
      "       4822, 4823, 4824, 4825, 4826, 4827, 4828, 4829, 4830, 4831, 4832,\n",
      "       4833, 4834, 4835, 4836, 4837, 4838, 4839, 4840, 4841, 4842, 4843,\n",
      "       4844, 4845, 4846, 4847, 4848, 4849, 4850, 4851, 4852, 4853, 4854,\n",
      "       4855, 4856, 4857, 4858, 4859, 4860, 4861, 4862, 4863, 4864, 4865,\n",
      "       4866, 4867, 4868, 4869, 4870, 4871, 4872, 4873, 4874, 4875, 4876,\n",
      "       4877, 4878, 4879, 4880, 4881, 4882, 4883, 4884, 4885, 4886, 4887,\n",
      "       4888, 4889, 4890, 4891, 4892, 4893, 4894, 4895, 4896, 4897, 4898,\n",
      "       4899, 4900, 4901, 4902, 4903, 4904, 4905, 4906, 4907, 4908, 4909,\n",
      "       4910, 4911, 4912, 4913, 4914, 4915, 4916, 4917, 4918, 4919, 4920,\n",
      "       4921, 4922, 4923, 4924, 4925, 4926, 4927, 4928, 4929, 4930, 4931,\n",
      "       4932, 4933, 4934, 4935, 4936, 4937, 4938, 4939, 4940, 4941, 4942,\n",
      "       4943, 4944, 4945, 4946, 4947, 4948, 4949, 4950, 4951, 4952, 4953,\n",
      "       4954, 4955, 4956, 4957, 4958, 4959, 4960, 4961, 4962, 4963, 4964,\n",
      "       4965, 4966, 4967, 4968, 4969, 4970, 4971, 4972, 4973, 4974, 4975,\n",
      "       4976, 4977, 4978, 4979, 4980, 4981, 4982, 4983, 4984, 4985, 4986,\n",
      "       4987, 4988, 4989, 4990, 4991, 4992, 4993, 4994, 4995, 4996, 4997,\n",
      "       4998, 4999, 5000, 5001, 5002, 5003, 5004, 5005, 5006, 5007, 5008,\n",
      "       5009, 5010, 5011, 5012, 5013, 5014, 5015, 5016, 5017, 5018, 5019,\n",
      "       5020, 5021, 5022, 5023, 5024, 5025, 5026, 5027, 5028, 5029, 5030,\n",
      "       5031, 5032, 5033, 5034, 5035, 5036, 5037, 5038, 5039, 5040, 5041,\n",
      "       5042, 5043, 5044, 5045, 5046, 5047, 5048, 5049, 5050, 5051, 5052,\n",
      "       5053, 5054, 5055, 5056, 5057, 5058, 5059, 5060, 5061, 5062, 5063,\n",
      "       5064, 5065, 5066, 5067, 5068, 5069, 5070, 5071, 5072, 5073, 5074,\n",
      "       5075, 5076]),)\n"
     ]
    }
   ],
   "source": [
    "#In the above graph, can clearly see that values above 80 are acting as the outliers.\n",
    "print(np.where(df['Open']>80))"
   ]
  },
  {
   "cell_type": "markdown",
   "metadata": {},
   "source": [
    "#### Plotting boxplots to know outliers"
   ]
  },
  {
   "cell_type": "code",
   "execution_count": 14,
   "metadata": {},
   "outputs": [
    {
     "data": {
      "text/plain": [
       "<matplotlib.axes._subplots.AxesSubplot at 0x7fc0b14a6f10>"
      ]
     },
     "execution_count": 14,
     "metadata": {},
     "output_type": "execute_result"
    },
    {
     "data": {
      "image/png": "[encoded data removed]",
      "text/plain": [
       "<Figure size 432x288 with 1 Axes>"
      ]
     },
     "metadata": {
      "needs_background": "light"
     },
     "output_type": "display_data"
    }
   ],
   "source": [
    "sb.boxplot(df['Close'])"
   ]
  },
  {
   "cell_type": "code",
   "execution_count": 15,
   "metadata": {},
   "outputs": [
    {
     "data": {
      "text/plain": [
       "<matplotlib.axes._subplots.AxesSubplot at 0x7fc0aae6d6d0>"
      ]
     },
     "execution_count": 15,
     "metadata": {},
     "output_type": "execute_result"
    },
    {
     "data": {
      "image/png": "[encoded data removed]",
      "text/plain": [
       "<Figure size 432x288 with 1 Axes>"
      ]
     },
     "metadata": {
      "needs_background": "light"
     },
     "output_type": "display_data"
    }
   ],
   "source": [
    "sb.boxplot(df['Adj Close'])"
   ]
  },
  {
   "cell_type": "code",
   "execution_count": 16,
   "metadata": {},
   "outputs": [
    {
     "data": {
      "text/plain": [
       "<matplotlib.axes._subplots.AxesSubplot at 0x7fc0b141f610>"
      ]
     },
     "execution_count": 16,
     "metadata": {},
     "output_type": "execute_result"
    },
    {
     "data": {
      "image/png": "[encoded data removed]",
      "text/plain": [
       "<Figure size 432x288 with 1 Axes>"
      ]
     },
     "metadata": {
      "needs_background": "light"
     },
     "output_type": "display_data"
    }
   ],
   "source": [
    "sb.boxplot(df['High'])"
   ]
  },
  {
   "cell_type": "code",
   "execution_count": 17,
   "metadata": {},
   "outputs": [
    {
     "data": {
      "text/plain": [
       "<matplotlib.axes._subplots.AxesSubplot at 0x7fc0b125a790>"
      ]
     },
     "execution_count": 17,
     "metadata": {},
     "output_type": "execute_result"
    },
    {
     "data": {
      "image/png": "[encoded data removed]",
      "text/plain": [
       "<Figure size 432x288 with 1 Axes>"
      ]
     },
     "metadata": {
      "needs_background": "light"
     },
     "output_type": "display_data"
    }
   ],
   "source": [
    "sb.boxplot(df['Low'])"
   ]
  },
  {
   "cell_type": "code",
   "execution_count": 19,
   "metadata": {},
   "outputs": [
    {
     "data": {
      "text/plain": [
       "<matplotlib.axes._subplots.AxesSubplot at 0x7fc0b13935d0>"
      ]
     },
     "execution_count": 19,
     "metadata": {},
     "output_type": "execute_result"
    },
    {
     "data": {
      "image/png": "[encoded data removed]",
      "text/plain": [
       "<Figure size 432x288 with 1 Axes>"
      ]
     },
     "metadata": {
      "needs_background": "light"
     },
     "output_type": "display_data"
    }
   ],
   "source": [
    "sb.boxplot(df['Volume'])"
   ]
  }
 ],
 "metadata": {
  "kernelspec": {
   "display_name": "Python 3 (ipykernel)",
   "language": "python",
   "name": "python3"
  },
  "language_info": {
   "codemirror_mode": {
    "name": "ipython",
    "version": 3
   },
   "file_extension": ".py",
   "mimetype": "text/x-python",
   "name": "python",
   "nbconvert_exporter": "python",
   "pygments_lexer": "ipython3",
   "version": "3.9.13"
  }
 },
 "nbformat": 4,
 "nbformat_minor": 2
}
